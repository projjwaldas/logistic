{
 "cells": [
  {
   "cell_type": "markdown",
   "id": "4c8b5c15-c501-4cb9-8806-61ed59c2331d",
   "metadata": {},
   "source": [
    "#### Module Summary\n",
    "> This module fits the stepwise logistic regression and helps the user to build the final logistic regression to the data\n",
    ">\n",
    "> **Input Files**\n",
    "> 1. Development and Validation WOE/ Dummy vars Data (pickle)\n",
    "> 2. Feature Reduction Summary (excel)\n",
    "> 3. Scoring pickle file - model metadata (pickle)\n",
    ">\n",
    "> **Output Files**\n",
    "> 1. Model Results (excel)\n",
    "> 2. Scoring pickle file - Model Metadata (pickle)"
   ]
  },
  {
   "cell_type": "markdown",
   "id": "44bc44bf-f811-408b-8111-b9374c6a3fda",
   "metadata": {},
   "source": [
    "<h4> 4.1 Import Libraries & Parameters and Initialise Output"
   ]
  },
  {
   "cell_type": "code",
   "execution_count": 1,
   "id": "7cc2ee36-7973-4bf2-b23f-a71d5263b13e",
   "metadata": {},
   "outputs": [],
   "source": [
    "# Import Libraries and Parameters\n",
    "import logit_config as cfg\n",
    "exec(open('module_imports.py').read())"
   ]
  },
  {
   "cell_type": "code",
   "execution_count": 2,
   "id": "af995d74-0899-4e0f-9c6a-9977a3ca5763",
   "metadata": {},
   "outputs": [],
   "source": [
    "model_approach = 'woe'             # Options are - i. woe ii. dummy_vars\n",
    "logit_method = 'logistic'          # Options are - i. logistic ii. l1"
   ]
  },
  {
   "cell_type": "markdown",
   "id": "73501b29-3140-40c8-8e3e-e99474468522",
   "metadata": {},
   "source": [
    "<h4> 4.2 Prepare Data for Model Input"
   ]
  },
  {
   "cell_type": "code",
   "execution_count": 3,
   "id": "8db9ae02-e114-4f32-b98e-691238c1419f",
   "metadata": {},
   "outputs": [],
   "source": [
    "# Import Data\n",
    "with open(f\"{outpath}/model_data.pickle\", 'rb') as f:\n",
    "    model_data_pckl_dict = pickle.load(f)\n",
    "dev_data = copy.deepcopy(model_data_pckl_dict[f'dev_data_{model_approach}'])\n",
    "val_data = copy.deepcopy(model_data_pckl_dict[f'val_data_{model_approach}'])\n",
    "\n",
    "# Check for Degenerate Columns in Validation Data\n",
    "val_degen_cols = [col for col in val_data.columns if val_data[col].nunique()==1]\n",
    "if len(val_degen_cols) > 0:\n",
    "    print(f'Degenerate Columns in Validation Data: {val_degen_cols}')"
   ]
  },
  {
   "cell_type": "code",
   "execution_count": 4,
   "id": "d99e20cd-03cc-4abf-aa4a-72a237127ba6",
   "metadata": {},
   "outputs": [
    {
     "name": "stdout",
     "output_type": "stream",
     "text": [
      "Development Data Shape: (341, 20)\n",
      "Development Response Rate: 36.6569%\n"
     ]
    }
   ],
   "source": [
    "# Drop Problematic Variables\n",
    "drop_col_pattern_list = []\n",
    "drop_col_list = [x for x in dev_data.columns if any(y in x for y in drop_col_pattern_list)] + val_degen_cols\n",
    "dev_data.drop(drop_col_list, axis=1, inplace=True)\n",
    "\n",
    "print(f'Development Data Shape: {dev_data.shape}\\nDevelopment Response Rate: {np.round(dev_data[resp_var].sum()/dev_data.index.size*100, 4)}%')\n",
    "\n",
    "# Prepare Training and Test Data Array\n",
    "X_train_orig = sm.add_constant(dev_data.drop(id_varlist+[resp_var], axis=1))\n",
    "y_train = dev_data[resp_var]\n",
    "\n",
    "keep_col_list = [x for x in X_train_orig.columns.tolist() if x!= 'const']\n",
    "X_test = sm.add_constant(val_data[keep_col_list], has_constant='raise')\n",
    "y_test = val_data[resp_var]"
   ]
  },
  {
   "cell_type": "markdown",
   "id": "bb4e42bb-a765-4c77-b77c-5392acc7c89d",
   "metadata": {},
   "source": [
    "<h4> 4.3 Stepwise Logistic Regression"
   ]
  },
  {
   "cell_type": "code",
   "execution_count": 5,
   "id": "fec84ded-a3ac-40dc-a4aa-688cab0f8f44",
   "metadata": {},
   "outputs": [
    {
     "name": "stdout",
     "output_type": "stream",
     "text": [
      "Add Intercept                      with p-value 1.3820675154460912e-35\n",
      "Add  L_concavity_worst              with p-value 1.82117e-46\n",
      "Add  L_radius_se                    with p-value 4.90741e-18\n",
      "Add  L_texture_worst                with p-value 8.26192e-10\n",
      "Add  L_compactness_mean             with p-value 1.45102e-05\n",
      "Add  L_smoothness_se                with p-value 5.76615e-05\n",
      "Add  L_concave points_worst         with p-value 0.000218409\n",
      "Add  L_symmetry_se                  with p-value 0.000649924\n",
      "Add  L_symmetry_worst               with p-value 0.000144837\n",
      "Add  L_texture_se                   with p-value 0.00144454\n",
      "Add  L_fractal_dimension_mean       with p-value 0.00649508\n",
      "Add  L_smoothness_worst             with p-value 0.00302943\n",
      "Add  L_concave points_se            with p-value 0.0137005\n",
      "# Resulting Features: 13\n",
      "\n",
      "Resulting features: ['const', 'L_concavity_worst', 'L_radius_se', 'L_texture_worst', 'L_compactness_mean', 'L_smoothness_se', 'L_concave points_worst', 'L_symmetry_se', 'L_symmetry_worst', 'L_texture_se', 'L_fractal_dimension_mean', 'L_smoothness_worst', 'L_concave points_se']\n",
      "CPU times: user 629 ms, sys: 39.5 ms, total: 669 ms\n",
      "Wall time: 502 ms\n"
     ]
    }
   ],
   "source": [
    "%%time\n",
    "\n",
    "# Run Stepwise Regression to get Final Variable List\n",
    "stepwise_df, stepwise_varlist = stepwise_selection(X_train_orig, y_train)\n",
    "\n",
    "print(f'# Resulting Features: {len(stepwise_varlist)}\\n\\nResulting features: {stepwise_varlist}')"
   ]
  },
  {
   "cell_type": "code",
   "execution_count": 6,
   "id": "2ec127e2-f928-4571-a3b2-1089f00ded69",
   "metadata": {},
   "outputs": [],
   "source": [
    "# Stepwise Data\n",
    "stepwise_df.reset_index(drop=True, inplace=True)\n",
    "stepwise_df['step_num'] = stepwise_df.index + 1\n",
    "\n",
    "# Export Stepwise Data\n",
    "export_data_to_excel(stepwise_df[['step_num', 'step', 'feature', 'p-val']], f'{outpath}/{feature_reduction_outfile}', sheetName='Stepwise Logistic')\n",
    "\n",
    "stepwise_dropover_df = pd.DataFrame([x for x in dev_data.columns.tolist() if x not in non_pred_varlist+stepwise_varlist], columns=['feature'])\n",
    "stepwise_dropover_df['drop_reason'] = 'stepwise_logistic'\n",
    "\n",
    "drop_reason_df = pd.read_excel(f'{outpath}/{feature_reduction_outfile}', sheet_name='Drop Reason Summary')\n",
    "drop_reason_df = drop_reason_df.append(stepwise_dropover_df)\n",
    "export_data_to_excel(drop_reason_df, f'{outpath}/{feature_reduction_outfile}', sheetName='Drop Reason Summary')"
   ]
  },
  {
   "cell_type": "markdown",
   "id": "daba3338-8b89-446b-bda4-bea4d8c3b1c9",
   "metadata": {},
   "source": [
    "<h4> 4.4 Model Fit - First Iteration"
   ]
  },
  {
   "cell_type": "code",
   "execution_count": 7,
   "id": "7bbf18ca-af4d-42a4-bee3-e8bbb2259d3f",
   "metadata": {},
   "outputs": [
    {
     "name": "stdout",
     "output_type": "stream",
     "text": [
      "Optimization terminated successfully.\n",
      "         Current function value: 0.138737\n",
      "         Iterations 9\n",
      "                           Logit Regression Results                           \n",
      "==============================================================================\n",
      "Dep. Variable:              diagnosis   No. Observations:                  341\n",
      "Model:                          Logit   Df Residuals:                      328\n",
      "Method:                           MLE   Df Model:                           12\n",
      "Date:                Tue, 10 May 2022   Pseudo R-squ.:                  0.7889\n",
      "Time:                        18:33:19   Log-Likelihood:                -47.309\n",
      "converged:                       True   LL-Null:                       -224.07\n",
      "Covariance Type:            nonrobust   LLR p-value:                 2.528e-68\n",
      "============================================================================================\n",
      "                               coef    std err          z      P>|z|      [0.025      0.975]\n",
      "--------------------------------------------------------------------------------------------\n",
      "const                       -0.9190      0.340     -2.706      0.007      -1.585      -0.253\n",
      "L_concavity_worst           -0.7390      0.250     -2.953      0.003      -1.229      -0.248\n",
      "L_radius_se                 -0.8170      0.256     -3.190      0.001      -1.319      -0.315\n",
      "L_texture_worst             -1.2480      0.271     -4.599      0.000      -1.780      -0.716\n",
      "L_compactness_mean          -0.3554      0.323     -1.100      0.271      -0.989       0.278\n",
      "L_smoothness_se             -2.3499      0.663     -3.542      0.000      -3.650      -1.050\n",
      "L_concave points_worst      -0.5515      0.262     -2.109      0.035      -1.064      -0.039\n",
      "L_symmetry_se               -1.4745      0.473     -3.117      0.002      -2.402      -0.547\n",
      "L_symmetry_worst            -1.0868      0.416     -2.612      0.009      -1.902      -0.271\n",
      "L_texture_se                -1.2988      0.644     -2.016      0.044      -2.562      -0.036\n",
      "L_fractal_dimension_mean    -1.7657      0.591     -2.985      0.003      -2.925      -0.606\n",
      "L_smoothness_worst          -0.3465      0.294     -1.180      0.238      -0.922       0.229\n",
      "L_concave points_se         -0.4669      0.303     -1.543      0.123      -1.060       0.126\n",
      "============================================================================================\n",
      "Dev Gini: 0.9762\n",
      "Dev KS: 0.8897\n"
     ]
    }
   ],
   "source": [
    "# Select Features from Stepwise\n",
    "X_train_stepwise = X_train_orig[stepwise_varlist]\n",
    "X_test_stepwise = X_test[stepwise_varlist]\n",
    "\n",
    "# Initial Run\n",
    "model_results_df, logit_model_obj = run_logistic(X_train_stepwise, y_train, logit_method, resp_var)"
   ]
  },
  {
   "cell_type": "code",
   "execution_count": 8,
   "id": "e3cb53ff-af34-4d93-b9b8-ded572ad7d53",
   "metadata": {},
   "outputs": [
    {
     "data": {
      "text/html": [
       "<div>\n",
       "<style scoped>\n",
       "    .dataframe tbody tr th:only-of-type {\n",
       "        vertical-align: middle;\n",
       "    }\n",
       "\n",
       "    .dataframe tbody tr th {\n",
       "        vertical-align: top;\n",
       "    }\n",
       "\n",
       "    .dataframe thead th {\n",
       "        text-align: right;\n",
       "    }\n",
       "</style>\n",
       "<table border=\"1\" class=\"dataframe\">\n",
       "  <thead>\n",
       "    <tr style=\"text-align: right;\">\n",
       "      <th></th>\n",
       "      <th>feature</th>\n",
       "      <th>VIF</th>\n",
       "    </tr>\n",
       "  </thead>\n",
       "  <tbody>\n",
       "    <tr>\n",
       "      <th>1</th>\n",
       "      <td>L_concavity_worst</td>\n",
       "      <td>2.02</td>\n",
       "    </tr>\n",
       "    <tr>\n",
       "      <th>4</th>\n",
       "      <td>L_compactness_mean</td>\n",
       "      <td>1.90</td>\n",
       "    </tr>\n",
       "    <tr>\n",
       "      <th>0</th>\n",
       "      <td>const</td>\n",
       "      <td>1.65</td>\n",
       "    </tr>\n",
       "    <tr>\n",
       "      <th>12</th>\n",
       "      <td>L_concave points_se</td>\n",
       "      <td>1.62</td>\n",
       "    </tr>\n",
       "    <tr>\n",
       "      <th>2</th>\n",
       "      <td>L_radius_se</td>\n",
       "      <td>1.41</td>\n",
       "    </tr>\n",
       "  </tbody>\n",
       "</table>\n",
       "</div>"
      ],
      "text/plain": [
       "                feature   VIF\n",
       "1     L_concavity_worst  2.02\n",
       "4    L_compactness_mean  1.90\n",
       "0                 const  1.65\n",
       "12  L_concave points_se  1.62\n",
       "2           L_radius_se  1.41"
      ]
     },
     "execution_count": 8,
     "metadata": {},
     "output_type": "execute_result"
    }
   ],
   "source": [
    "vif_df = check_vif(X_train_stepwise)\n",
    "vif_df.head()"
   ]
  },
  {
   "cell_type": "markdown",
   "id": "2d646ef2-bbe9-4060-8098-a61ae8d8a47a",
   "metadata": {},
   "source": [
    "<h4> 4.5 Subsequent Runs - needs manual intervention"
   ]
  },
  {
   "cell_type": "code",
   "execution_count": 9,
   "id": "5b176326-33fc-408c-ac37-30a68be7fefe",
   "metadata": {},
   "outputs": [],
   "source": [
    "# Initialise Master Drop Variable List  - Run this only once\n",
    "master_drop_varlist = []"
   ]
  },
  {
   "cell_type": "code",
   "execution_count": 10,
   "id": "e29bca96-0adb-49cd-a535-04b443ec14d0",
   "metadata": {},
   "outputs": [
    {
     "name": "stdout",
     "output_type": "stream",
     "text": [
      "# Variables in New Training List: 10\n"
     ]
    }
   ],
   "source": [
    "# List of Variables with high p-value or VIF\n",
    "drop_var_list = model_results_df[(model_results_df['pval'] > 0.05) | (model_results_df['pval'].isnull())]['feature'].tolist()\n",
    "# drop_var_list = vif_df[vif_df['VIF'] > 3]['feature'].tolist()\n",
    "drop_var_list = [x for x in drop_var_list if x != 'const']\n",
    "\n",
    "# Manual Input\n",
    "# drop_var_list = []\n",
    "\n",
    "# Update Final Variable List\n",
    "master_drop_varlist = master_drop_varlist + drop_var_list\n",
    "keep_varlist = []\n",
    "\n",
    "master_drop_varlist = [x for x in drop_var_list if x not in keep_varlist]\n",
    "new_train_varlist = [x for x in stepwise_varlist if x not in master_drop_varlist]\n",
    "print(f'# Variables in New Training List: {len(new_train_varlist)}')"
   ]
  },
  {
   "cell_type": "code",
   "execution_count": 11,
   "id": "349943e8-f9b8-4639-a225-e88db20035c9",
   "metadata": {},
   "outputs": [
    {
     "name": "stdout",
     "output_type": "stream",
     "text": [
      "Optimization terminated successfully.\n",
      "         Current function value: 0.154761\n",
      "         Iterations 9\n",
      "                           Logit Regression Results                           \n",
      "==============================================================================\n",
      "Dep. Variable:              diagnosis   No. Observations:                  341\n",
      "Model:                          Logit   Df Residuals:                      331\n",
      "Method:                           MLE   Df Model:                            9\n",
      "Date:                Tue, 10 May 2022   Pseudo R-squ.:                  0.7645\n",
      "Time:                        18:33:22   Log-Likelihood:                -52.773\n",
      "converged:                       True   LL-Null:                       -224.07\n",
      "Covariance Type:            nonrobust   LLR p-value:                 2.329e-68\n",
      "============================================================================================\n",
      "                               coef    std err          z      P>|z|      [0.025      0.975]\n",
      "--------------------------------------------------------------------------------------------\n",
      "const                       -1.0806      0.337     -3.204      0.001      -1.741      -0.420\n",
      "L_concavity_worst           -1.0612      0.214     -4.955      0.000      -1.481      -0.641\n",
      "L_radius_se                 -1.0639      0.242     -4.390      0.000      -1.539      -0.589\n",
      "L_texture_worst             -1.0341      0.228     -4.537      0.000      -1.481      -0.587\n",
      "L_smoothness_se             -1.8157      0.562     -3.233      0.001      -2.916      -0.715\n",
      "L_concave points_worst      -0.5782      0.261     -2.212      0.027      -1.090      -0.066\n",
      "L_symmetry_se               -1.3168      0.402     -3.274      0.001      -2.105      -0.529\n",
      "L_symmetry_worst            -0.9973      0.371     -2.689      0.007      -1.724      -0.270\n",
      "L_texture_se                -1.3078      0.605     -2.163      0.031      -2.493      -0.123\n",
      "L_fractal_dimension_mean    -1.6975      0.560     -3.033      0.002      -2.795      -0.600\n",
      "============================================================================================\n",
      "Dev Gini: 0.9708\n",
      "Dev KS: 0.8826\n"
     ]
    }
   ],
   "source": [
    "# Model Iteration\n",
    "model_results_df, logit_model_obj = run_logistic(X_train_stepwise[new_train_varlist], y_train, logit_method, resp_var)\n",
    "vif_df = check_vif(X_train_stepwise[new_train_varlist])"
   ]
  },
  {
   "cell_type": "code",
   "execution_count": 12,
   "id": "68d6bb54-d5d7-4dff-9990-801acec0dda5",
   "metadata": {},
   "outputs": [
    {
     "data": {
      "text/html": [
       "<div>\n",
       "<style scoped>\n",
       "    .dataframe tbody tr th:only-of-type {\n",
       "        vertical-align: middle;\n",
       "    }\n",
       "\n",
       "    .dataframe tbody tr th {\n",
       "        vertical-align: top;\n",
       "    }\n",
       "\n",
       "    .dataframe thead th {\n",
       "        text-align: right;\n",
       "    }\n",
       "</style>\n",
       "<table border=\"1\" class=\"dataframe\">\n",
       "  <thead>\n",
       "    <tr style=\"text-align: right;\">\n",
       "      <th></th>\n",
       "      <th>feature</th>\n",
       "      <th>VIF</th>\n",
       "    </tr>\n",
       "  </thead>\n",
       "  <tbody>\n",
       "    <tr>\n",
       "      <th>0</th>\n",
       "      <td>const</td>\n",
       "      <td>1.60</td>\n",
       "    </tr>\n",
       "    <tr>\n",
       "      <th>1</th>\n",
       "      <td>L_concavity_worst</td>\n",
       "      <td>1.51</td>\n",
       "    </tr>\n",
       "    <tr>\n",
       "      <th>2</th>\n",
       "      <td>L_radius_se</td>\n",
       "      <td>1.26</td>\n",
       "    </tr>\n",
       "    <tr>\n",
       "      <th>5</th>\n",
       "      <td>L_concave points_worst</td>\n",
       "      <td>1.25</td>\n",
       "    </tr>\n",
       "    <tr>\n",
       "      <th>3</th>\n",
       "      <td>L_texture_worst</td>\n",
       "      <td>1.18</td>\n",
       "    </tr>\n",
       "  </tbody>\n",
       "</table>\n",
       "</div>"
      ],
      "text/plain": [
       "                  feature   VIF\n",
       "0                   const  1.60\n",
       "1       L_concavity_worst  1.51\n",
       "2             L_radius_se  1.26\n",
       "5  L_concave points_worst  1.25\n",
       "3         L_texture_worst  1.18"
      ]
     },
     "execution_count": 12,
     "metadata": {},
     "output_type": "execute_result"
    }
   ],
   "source": [
    "# Display VIF\n",
    "vif_df.head()"
   ]
  },
  {
   "cell_type": "code",
   "execution_count": 13,
   "id": "cf7d181c-9b8a-4773-9a00-483888360ae5",
   "metadata": {},
   "outputs": [
    {
     "data": {
      "image/png": "[encoded data removed]",
      "text/plain": [
       "<Figure size 2160x720 with 2 Axes>"
      ]
     },
     "metadata": {},
     "output_type": "display_data"
    }
   ],
   "source": [
    "%matplotlib inline\n",
    "\n",
    "# Draw Correlation Plot\n",
    "corr = X_train_stepwise[new_train_varlist].drop('const', axis=1).corr()\n",
    "sns.set(rc={'figure.figsize': (30, 10)})\n",
    "sns.heatmap(corr, xticklabels=corr.columns, yticklabels=corr.columns, annot=True, cmap=sns.diverging_palette(220, 20, as_cmap=True))\n",
    "plt.savefig(f'{outpath}/correlation_plot.png')"
   ]
  },
  {
   "cell_type": "markdown",
   "id": "da5ab1c7-457b-4fc9-bc96-108543fb2fe9",
   "metadata": {},
   "source": [
    "<h4> 4.6 Performance Parameters"
   ]
  },
  {
   "cell_type": "code",
   "execution_count": 14,
   "id": "7e2c05b5-92ae-45c2-aca7-6d6055d0a364",
   "metadata": {},
   "outputs": [],
   "source": [
    "# Update Final Varlist\n",
    "if not 'new_train_varlist' in globals():\n",
    "    logit_varlist = stepwise_varlist\n",
    "else:\n",
    "    logit_varlist = new_train_varlist"
   ]
  },
  {
   "cell_type": "code",
   "execution_count": 15,
   "id": "8cf56a1d-f9df-40fd-bbc5-3b8ec4cc165f",
   "metadata": {},
   "outputs": [
    {
     "data": {
      "text/html": [
       "<div>\n",
       "<style scoped>\n",
       "    .dataframe tbody tr th:only-of-type {\n",
       "        vertical-align: middle;\n",
       "    }\n",
       "\n",
       "    .dataframe tbody tr th {\n",
       "        vertical-align: top;\n",
       "    }\n",
       "\n",
       "    .dataframe thead th {\n",
       "        text-align: right;\n",
       "    }\n",
       "</style>\n",
       "<table border=\"1\" class=\"dataframe\">\n",
       "  <thead>\n",
       "    <tr style=\"text-align: right;\">\n",
       "      <th></th>\n",
       "      <th>Metrics</th>\n",
       "      <th>Values</th>\n",
       "    </tr>\n",
       "  </thead>\n",
       "  <tbody>\n",
       "    <tr>\n",
       "      <th>0</th>\n",
       "      <td>Gini_S1</td>\n",
       "      <td>0.970815</td>\n",
       "    </tr>\n",
       "    <tr>\n",
       "      <th>1</th>\n",
       "      <td>Gini_S2</td>\n",
       "      <td>0.827179</td>\n",
       "    </tr>\n",
       "    <tr>\n",
       "      <th>2</th>\n",
       "      <td>GiniVariance</td>\n",
       "      <td>14.800000</td>\n",
       "    </tr>\n",
       "    <tr>\n",
       "      <th>3</th>\n",
       "      <td>KS_S1</td>\n",
       "      <td>0.882556</td>\n",
       "    </tr>\n",
       "    <tr>\n",
       "      <th>4</th>\n",
       "      <td>KS_S2</td>\n",
       "      <td>0.674493</td>\n",
       "    </tr>\n",
       "    <tr>\n",
       "      <th>5</th>\n",
       "      <td>PSI</td>\n",
       "      <td>0.103551</td>\n",
       "    </tr>\n",
       "    <tr>\n",
       "      <th>6</th>\n",
       "      <td>S1_TN</td>\n",
       "      <td>201.000000</td>\n",
       "    </tr>\n",
       "    <tr>\n",
       "      <th>7</th>\n",
       "      <td>S1_FP</td>\n",
       "      <td>15.000000</td>\n",
       "    </tr>\n",
       "    <tr>\n",
       "      <th>8</th>\n",
       "      <td>S1_FN</td>\n",
       "      <td>7.000000</td>\n",
       "    </tr>\n",
       "    <tr>\n",
       "      <th>9</th>\n",
       "      <td>S1_TP</td>\n",
       "      <td>118.000000</td>\n",
       "    </tr>\n",
       "    <tr>\n",
       "      <th>10</th>\n",
       "      <td>S1_Precision</td>\n",
       "      <td>0.887218</td>\n",
       "    </tr>\n",
       "    <tr>\n",
       "      <th>11</th>\n",
       "      <td>S1_Recall</td>\n",
       "      <td>0.944000</td>\n",
       "    </tr>\n",
       "    <tr>\n",
       "      <th>12</th>\n",
       "      <td>S1_F1_Score</td>\n",
       "      <td>0.914729</td>\n",
       "    </tr>\n",
       "    <tr>\n",
       "      <th>13</th>\n",
       "      <td>S2_TN</td>\n",
       "      <td>134.000000</td>\n",
       "    </tr>\n",
       "    <tr>\n",
       "      <th>14</th>\n",
       "      <td>S2_FP</td>\n",
       "      <td>7.000000</td>\n",
       "    </tr>\n",
       "    <tr>\n",
       "      <th>15</th>\n",
       "      <td>S2_FN</td>\n",
       "      <td>24.000000</td>\n",
       "    </tr>\n",
       "    <tr>\n",
       "      <th>16</th>\n",
       "      <td>S2_TP</td>\n",
       "      <td>63.000000</td>\n",
       "    </tr>\n",
       "    <tr>\n",
       "      <th>17</th>\n",
       "      <td>S2_Precision</td>\n",
       "      <td>0.900000</td>\n",
       "    </tr>\n",
       "    <tr>\n",
       "      <th>18</th>\n",
       "      <td>S2_Recall</td>\n",
       "      <td>0.724138</td>\n",
       "    </tr>\n",
       "    <tr>\n",
       "      <th>19</th>\n",
       "      <td>S2_F1_Score</td>\n",
       "      <td>0.802548</td>\n",
       "    </tr>\n",
       "  </tbody>\n",
       "</table>\n",
       "</div>"
      ],
      "text/plain": [
       "         Metrics      Values\n",
       "0        Gini_S1    0.970815\n",
       "1        Gini_S2    0.827179\n",
       "2   GiniVariance   14.800000\n",
       "3          KS_S1    0.882556\n",
       "4          KS_S2    0.674493\n",
       "5            PSI    0.103551\n",
       "6          S1_TN  201.000000\n",
       "7          S1_FP   15.000000\n",
       "8          S1_FN    7.000000\n",
       "9          S1_TP  118.000000\n",
       "10  S1_Precision    0.887218\n",
       "11     S1_Recall    0.944000\n",
       "12   S1_F1_Score    0.914729\n",
       "13         S2_TN  134.000000\n",
       "14         S2_FP    7.000000\n",
       "15         S2_FN   24.000000\n",
       "16         S2_TP   63.000000\n",
       "17  S2_Precision    0.900000\n",
       "18     S2_Recall    0.724138\n",
       "19   S2_F1_Score    0.802548"
      ]
     },
     "execution_count": 15,
     "metadata": {},
     "output_type": "execute_result"
    }
   ],
   "source": [
    "# Create Leaderboard\n",
    "leaderboard_df = create_leaderboard(X_train_stepwise[logit_varlist], y_train, X_test[logit_varlist], y_test, resp_var, logit_model_obj)\n",
    "leaderboard_df.head(20)"
   ]
  },
  {
   "cell_type": "code",
   "execution_count": 16,
   "id": "af6437c0-e9e4-4e32-a245-d0e136c61726",
   "metadata": {},
   "outputs": [
    {
     "data": {
      "text/html": [
       "<div>\n",
       "<style scoped>\n",
       "    .dataframe tbody tr th:only-of-type {\n",
       "        vertical-align: middle;\n",
       "    }\n",
       "\n",
       "    .dataframe tbody tr th {\n",
       "        vertical-align: top;\n",
       "    }\n",
       "\n",
       "    .dataframe thead th {\n",
       "        text-align: right;\n",
       "    }\n",
       "</style>\n",
       "<table border=\"1\" class=\"dataframe\">\n",
       "  <thead>\n",
       "    <tr style=\"text-align: right;\">\n",
       "      <th></th>\n",
       "      <th>decile</th>\n",
       "      <th>obs_cnt</th>\n",
       "      <th>resp_cnt</th>\n",
       "      <th>resp_pct</th>\n",
       "      <th>cum_resp_pct</th>\n",
       "    </tr>\n",
       "  </thead>\n",
       "  <tbody>\n",
       "    <tr>\n",
       "      <th>0</th>\n",
       "      <td>1</td>\n",
       "      <td>35</td>\n",
       "      <td>35</td>\n",
       "      <td>0.280</td>\n",
       "      <td>0.280</td>\n",
       "    </tr>\n",
       "    <tr>\n",
       "      <th>1</th>\n",
       "      <td>2</td>\n",
       "      <td>34</td>\n",
       "      <td>34</td>\n",
       "      <td>0.272</td>\n",
       "      <td>0.552</td>\n",
       "    </tr>\n",
       "    <tr>\n",
       "      <th>2</th>\n",
       "      <td>3</td>\n",
       "      <td>34</td>\n",
       "      <td>30</td>\n",
       "      <td>0.240</td>\n",
       "      <td>0.792</td>\n",
       "    </tr>\n",
       "    <tr>\n",
       "      <th>3</th>\n",
       "      <td>4</td>\n",
       "      <td>34</td>\n",
       "      <td>20</td>\n",
       "      <td>0.160</td>\n",
       "      <td>0.952</td>\n",
       "    </tr>\n",
       "    <tr>\n",
       "      <th>4</th>\n",
       "      <td>5</td>\n",
       "      <td>34</td>\n",
       "      <td>6</td>\n",
       "      <td>0.048</td>\n",
       "      <td>1.000</td>\n",
       "    </tr>\n",
       "    <tr>\n",
       "      <th>5</th>\n",
       "      <td>6</td>\n",
       "      <td>34</td>\n",
       "      <td>0</td>\n",
       "      <td>0.000</td>\n",
       "      <td>1.000</td>\n",
       "    </tr>\n",
       "    <tr>\n",
       "      <th>6</th>\n",
       "      <td>7</td>\n",
       "      <td>34</td>\n",
       "      <td>0</td>\n",
       "      <td>0.000</td>\n",
       "      <td>1.000</td>\n",
       "    </tr>\n",
       "    <tr>\n",
       "      <th>7</th>\n",
       "      <td>8</td>\n",
       "      <td>34</td>\n",
       "      <td>0</td>\n",
       "      <td>0.000</td>\n",
       "      <td>1.000</td>\n",
       "    </tr>\n",
       "    <tr>\n",
       "      <th>8</th>\n",
       "      <td>9</td>\n",
       "      <td>34</td>\n",
       "      <td>0</td>\n",
       "      <td>0.000</td>\n",
       "      <td>1.000</td>\n",
       "    </tr>\n",
       "    <tr>\n",
       "      <th>9</th>\n",
       "      <td>10</td>\n",
       "      <td>34</td>\n",
       "      <td>0</td>\n",
       "      <td>0.000</td>\n",
       "      <td>1.000</td>\n",
       "    </tr>\n",
       "  </tbody>\n",
       "</table>\n",
       "</div>"
      ],
      "text/plain": [
       "  decile  obs_cnt  resp_cnt  resp_pct  cum_resp_pct\n",
       "0      1       35        35     0.280         0.280\n",
       "1      2       34        34     0.272         0.552\n",
       "2      3       34        30     0.240         0.792\n",
       "3      4       34        20     0.160         0.952\n",
       "4      5       34         6     0.048         1.000\n",
       "5      6       34         0     0.000         1.000\n",
       "6      7       34         0     0.000         1.000\n",
       "7      8       34         0     0.000         1.000\n",
       "8      9       34         0     0.000         1.000\n",
       "9     10       34         0     0.000         1.000"
      ]
     },
     "execution_count": 16,
     "metadata": {},
     "output_type": "execute_result"
    }
   ],
   "source": [
    "# Rank Ordering\n",
    "rank_order_df = get_rank_order_data(logit_model_obj, X_train_stepwise[logit_varlist], y_train)\n",
    "rank_order_df"
   ]
  },
  {
   "cell_type": "code",
   "execution_count": 17,
   "id": "e6cb0092-3e14-421f-988e-5beab23f2af9",
   "metadata": {},
   "outputs": [
    {
     "data": {
      "text/plain": [
       "{'pct_concordance': 98.54,\n",
       " 'pct_discordance': 1.46,\n",
       " 'pct_ties': 0.0,\n",
       " 'pairs_tested': 27000}"
      ]
     },
     "execution_count": 17,
     "metadata": {},
     "output_type": "execute_result"
    }
   ],
   "source": [
    "# Calculate Concordance\n",
    "get_concordance(logit_model_obj, X_train_stepwise[logit_varlist], y_train)"
   ]
  },
  {
   "cell_type": "markdown",
   "id": "31f37aa4-de26-4744-b99d-d98f90c5b790",
   "metadata": {},
   "source": [
    "<h4> 4.7 Model Data Export"
   ]
  },
  {
   "cell_type": "markdown",
   "id": "8351fffa-3a5b-4034-b7b2-ca5688b49c6f",
   "metadata": {},
   "source": [
    "<font color=blue>Make sure that the logit_model_obj object has the final version of the logistic/ l1 model before saving it to the model metadata pickle file</font>"
   ]
  },
  {
   "cell_type": "code",
   "execution_count": 20,
   "id": "d538750a-d41d-45ae-abca-d8056f16e8bf",
   "metadata": {},
   "outputs": [],
   "source": [
    "# Import and Update Pickle Dictionary Object\n",
    "with open(f\"{outpath}/model_metadata.pickle\", 'rb') as f:\n",
    "    model_metadata_pckl_dict = pickle.load(f)\n",
    "model_metadata_pckl_dict['model'] = logit_model_obj\n",
    "model_metadata_pckl_dict['model_approach'] = model_approach\n",
    "model_metadata_pckl_dict['logit_method'] = logit_method\n",
    "\n",
    "# Export Updated Dictionary Object back into Pickle\n",
    "with open(f\"{outpath}/model_metadata.pickle\", 'wb') as f:\n",
    "    pickle.dump(model_metadata_pckl_dict, f)"
   ]
  }
 ],
 "metadata": {
  "kernelspec": {
   "display_name": "Python 3",
   "language": "python",
   "name": "python3"
  },
  "language_info": {
   "codemirror_mode": {
    "name": "ipython",
    "version": 3
   },
   "file_extension": ".py",
   "mimetype": "text/x-python",
   "name": "python",
   "nbconvert_exporter": "python",
   "pygments_lexer": "ipython3",
   "version": "3.8.8"
  }
 },
 "nbformat": 4,
 "nbformat_minor": 5
}
