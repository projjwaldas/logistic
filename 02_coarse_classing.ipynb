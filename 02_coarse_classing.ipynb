{
 "cells": [
  {
   "cell_type": "markdown",
   "id": "ee97ba5e-92e3-4daa-8e30-57b3080093a4",
   "metadata": {},
   "source": [
    "#### Module Summary\n",
    "> This module does coarse classing of the development data and reduces further features with < 3% Information Value. The cut-off value can be re-configured from the configuration file. \\\n",
    "> the coarse classing output of this module will need manual intervention to group 'similar' bins together for the next module - fine_classing\n",
    ">\n",
    "> **Input Files**\n",
    "> 1. Developemnt and Validation data with reduced features as obtained form 01_feature_reduction module (pickle)\n",
    "> 2. Feature Readuction Summary (xlsx)\n",
    ">\n",
    "> **Output Files**\n",
    "> 1. Development & Validation data with reduced features (pickle)\n",
    "> 2. Feature Reduction Summary (xlsx)\n",
    "> 3. Coarse Classing Data (xlsx)"
   ]
  },
  {
   "cell_type": "markdown",
   "id": "246a8d57-f757-4b3b-bebf-c69a1ac7289d",
   "metadata": {},
   "source": [
    "<h4> 2.1 Import Modules & Parameters"
   ]
  },
  {
   "cell_type": "code",
   "execution_count": 1,
   "id": "194f884e-2975-415f-8ceb-03bc486b4d1b",
   "metadata": {},
   "outputs": [],
   "source": [
    "import logit_config as cfg\n",
    "exec(open('module_imports.py').read())"
   ]
  },
  {
   "cell_type": "markdown",
   "id": "8697af88-870f-4d6e-9c40-66d05e266493",
   "metadata": {},
   "source": [
    "<h4> 2.2 Import Data"
   ]
  },
  {
   "cell_type": "code",
   "execution_count": 2,
   "id": "0ef6f322-b139-49f7-a27c-0d43b0f72a71",
   "metadata": {},
   "outputs": [
    {
     "name": "stdout",
     "output_type": "stream",
     "text": [
      "Development Data Shape: (341, 20)\n"
     ]
    }
   ],
   "source": [
    "with open(f\"{outpath}/model_data.pickle\", 'rb') as f:\n",
    "    model_data_pckl_dict = pickle.load(f)\n",
    "dev_data = copy.deepcopy(model_data_pckl_dict['dev_data_out1'])\n",
    "val_data = copy.deepcopy(model_data_pckl_dict['val_data_out1'])\n",
    "print(f\"Development Data Shape: {dev_data.shape}\")"
   ]
  },
  {
   "cell_type": "markdown",
   "id": "a4fc3392-697e-4b9f-abd5-408c62d0554d",
   "metadata": {},
   "source": [
    "<h4> 2.3 Coarse Classing"
   ]
  },
  {
   "cell_type": "code",
   "execution_count": 3,
   "id": "b57185c9-573a-4d56-b1f4-b7dd2dd744c2",
   "metadata": {},
   "outputs": [
    {
     "name": "stderr",
     "output_type": "stream",
     "text": [
      "100%|██████████| 18/18 [00:00<00:00, 19.86it/s]\n"
     ]
    },
    {
     "data": {
      "text/html": [
       "<div>\n",
       "<style scoped>\n",
       "    .dataframe tbody tr th:only-of-type {\n",
       "        vertical-align: middle;\n",
       "    }\n",
       "\n",
       "    .dataframe tbody tr th {\n",
       "        vertical-align: top;\n",
       "    }\n",
       "\n",
       "    .dataframe thead th {\n",
       "        text-align: right;\n",
       "    }\n",
       "</style>\n",
       "<table border=\"1\" class=\"dataframe\">\n",
       "  <thead>\n",
       "    <tr style=\"text-align: right;\">\n",
       "      <th></th>\n",
       "      <th>VAR_NAME</th>\n",
       "      <th>VAR_BINS</th>\n",
       "      <th>TOT_ACTS</th>\n",
       "      <th>ROWP_TOT</th>\n",
       "      <th>COUNT_RESP</th>\n",
       "      <th>PER_RESP</th>\n",
       "      <th>COUNT_NON_RESP</th>\n",
       "      <th>PER_NON_RESP</th>\n",
       "      <th>RAW_ODDS</th>\n",
       "      <th>LN_ODDS</th>\n",
       "      <th>INFO_VAL</th>\n",
       "      <th>CH_SQ</th>\n",
       "      <th>RESP_RATE</th>\n",
       "      <th>FINE_BIN_NUM</th>\n",
       "    </tr>\n",
       "  </thead>\n",
       "  <tbody>\n",
       "    <tr>\n",
       "      <th>0</th>\n",
       "      <td>smoothness_mean</td>\n",
       "      <td>(-inf, 0.07466]</td>\n",
       "      <td>18</td>\n",
       "      <td>0.052786</td>\n",
       "      <td>0</td>\n",
       "      <td>0.000</td>\n",
       "      <td>18</td>\n",
       "      <td>0.083333</td>\n",
       "      <td>0.000000</td>\n",
       "      <td>0.000000</td>\n",
       "      <td>0.000000</td>\n",
       "      <td>10.416667</td>\n",
       "      <td>0.000000</td>\n",
       "      <td>1</td>\n",
       "    </tr>\n",
       "    <tr>\n",
       "      <th>1</th>\n",
       "      <td>smoothness_mean</td>\n",
       "      <td>(0.07466, 0.07948]</td>\n",
       "      <td>17</td>\n",
       "      <td>0.049853</td>\n",
       "      <td>2</td>\n",
       "      <td>0.016</td>\n",
       "      <td>15</td>\n",
       "      <td>0.069444</td>\n",
       "      <td>4.340278</td>\n",
       "      <td>1.467938</td>\n",
       "      <td>0.078453</td>\n",
       "      <td>4.536490</td>\n",
       "      <td>0.117647</td>\n",
       "      <td>2</td>\n",
       "    </tr>\n",
       "    <tr>\n",
       "      <th>2</th>\n",
       "      <td>smoothness_mean</td>\n",
       "      <td>(0.07948, 0.08223]</td>\n",
       "      <td>17</td>\n",
       "      <td>0.049853</td>\n",
       "      <td>2</td>\n",
       "      <td>0.016</td>\n",
       "      <td>15</td>\n",
       "      <td>0.069444</td>\n",
       "      <td>4.340278</td>\n",
       "      <td>1.467938</td>\n",
       "      <td>0.078453</td>\n",
       "      <td>4.536490</td>\n",
       "      <td>0.117647</td>\n",
       "      <td>3</td>\n",
       "    </tr>\n",
       "    <tr>\n",
       "      <th>3</th>\n",
       "      <td>smoothness_mean</td>\n",
       "      <td>(0.08223, 0.0842]</td>\n",
       "      <td>17</td>\n",
       "      <td>0.049853</td>\n",
       "      <td>4</td>\n",
       "      <td>0.032</td>\n",
       "      <td>13</td>\n",
       "      <td>0.060185</td>\n",
       "      <td>1.880787</td>\n",
       "      <td>0.631690</td>\n",
       "      <td>0.017804</td>\n",
       "      <td>1.261702</td>\n",
       "      <td>0.235294</td>\n",
       "      <td>4</td>\n",
       "    </tr>\n",
       "    <tr>\n",
       "      <th>4</th>\n",
       "      <td>smoothness_mean</td>\n",
       "      <td>(0.0842, 0.08546]</td>\n",
       "      <td>17</td>\n",
       "      <td>0.049853</td>\n",
       "      <td>2</td>\n",
       "      <td>0.016</td>\n",
       "      <td>15</td>\n",
       "      <td>0.069444</td>\n",
       "      <td>4.340278</td>\n",
       "      <td>1.467938</td>\n",
       "      <td>0.078453</td>\n",
       "      <td>4.536490</td>\n",
       "      <td>0.117647</td>\n",
       "      <td>5</td>\n",
       "    </tr>\n",
       "  </tbody>\n",
       "</table>\n",
       "</div>"
      ],
      "text/plain": [
       "          VAR_NAME            VAR_BINS  TOT_ACTS  ROWP_TOT  COUNT_RESP  \\\n",
       "0  smoothness_mean     (-inf, 0.07466]        18  0.052786           0   \n",
       "1  smoothness_mean  (0.07466, 0.07948]        17  0.049853           2   \n",
       "2  smoothness_mean  (0.07948, 0.08223]        17  0.049853           2   \n",
       "3  smoothness_mean   (0.08223, 0.0842]        17  0.049853           4   \n",
       "4  smoothness_mean   (0.0842, 0.08546]        17  0.049853           2   \n",
       "\n",
       "   PER_RESP  COUNT_NON_RESP  PER_NON_RESP  RAW_ODDS   LN_ODDS  INFO_VAL  \\\n",
       "0     0.000              18      0.083333  0.000000  0.000000  0.000000   \n",
       "1     0.016              15      0.069444  4.340278  1.467938  0.078453   \n",
       "2     0.016              15      0.069444  4.340278  1.467938  0.078453   \n",
       "3     0.032              13      0.060185  1.880787  0.631690  0.017804   \n",
       "4     0.016              15      0.069444  4.340278  1.467938  0.078453   \n",
       "\n",
       "       CH_SQ  RESP_RATE  FINE_BIN_NUM  \n",
       "0  10.416667   0.000000             1  \n",
       "1   4.536490   0.117647             2  \n",
       "2   4.536490   0.117647             3  \n",
       "3   1.261702   0.235294             4  \n",
       "4   4.536490   0.117647             5  "
      ]
     },
     "execution_count": 3,
     "metadata": {},
     "output_type": "execute_result"
    }
   ],
   "source": [
    "# %%time\n",
    "\n",
    "# Get Variable List for which coarse classing needs to be done\n",
    "var_list = [x for x in dev_data.columns.tolist() if x not in non_pred_varlist]\n",
    "\n",
    "# Coarse Classing\n",
    "dev_data_woe = copy.deepcopy(dev_data)\n",
    "coarse_classing_df = coarse_classing(dev_data, dev_data_woe, resp_var, var_list, special_val_list)\n",
    "\n",
    "# Update the Character vars Grouping\n",
    "char_varlist = [x for x in dev_data.select_dtypes(exclude=np.number).columns.tolist() if x not in non_pred_varlist]\n",
    "\n",
    "if len(char_varlist) > 0:\n",
    "    man_enc_map_df = create_cat_groups(dev_data, resp_var, char_varlist)\n",
    "    coarse_classing_df = coarse_classing_df.merge(man_enc_map_df[['feature', 'class', 'grp']], left_on=['VAR_NAME', 'VAR_BINS'], right_on=['feature', 'class'], how='left')\n",
    "    coarse_classing_df['FINE_BIN_NUM'] = np.where(coarse_classing_df['grp'].isnull(), coarse_classing_df['FINE_BIN_NUM'], coarse_classing_df['grp']).astype(int)\n",
    "    coarse_classing_df.drop(['feature', 'class', 'grp'], axis=1, inplace=True)\n",
    "coarse_classing_df.head()"
   ]
  },
  {
   "cell_type": "markdown",
   "id": "e1b1c310-cd65-4b8c-808a-15f4c57166c2",
   "metadata": {},
   "source": [
    "<h4> 2.4 Information Value Check"
   ]
  },
  {
   "cell_type": "code",
   "execution_count": 4,
   "id": "9e3a2c2e-da60-419b-874c-397d52980c2f",
   "metadata": {},
   "outputs": [
    {
     "name": "stdout",
     "output_type": "stream",
     "text": [
      "Information Value cut-off being used: 0.03\n",
      "Variables Dropped: 0. Updated Development Data Shape: (341, 20)\n"
     ]
    }
   ],
   "source": [
    "# Compute IV\n",
    "iv_df = pd.DataFrame(coarse_classing_df.groupby('VAR_NAME')['INFO_VAL'].sum().rename('IV')).rename_axis('feature').reset_index().sort_values('IV', ascending=False).reset_index(drop=True)\n",
    "\n",
    "# Drop Variables\n",
    "# iv_drop_df = iv_df[iv_df['IV'] <= iv_cutoff]\n",
    "iv_drop_df = iv_df[iv_df.index >= 100]\n",
    "dev_data.drop(iv_drop_df['feature'].tolist(), axis=1, inplace=True)\n",
    "print(f\"Information Value cut-off being used: {iv_cutoff}\\nVariables Dropped: {len(iv_drop_df['feature'].tolist())}. Updated Development Data Shape: {dev_data.shape}\")\n",
    "\n",
    "# Export Feature Dropout Reason\n",
    "iv_drop_df['drop_reason'] = 'low_iv'\n",
    "drop_reason_df = pd.read_excel(f'{outpath}/{feature_reduction_outfile}', sheet_name='Drop Reason Summary')\n",
    "drop_reason_df = drop_reason_df.append(iv_drop_df[['feature', 'drop_reason']])\n",
    "export_data_to_excel(iv_df, f'{outpath}/{feature_reduction_outfile}', sheetName='Information Value')\n",
    "export_data_to_excel(drop_reason_df, f'{outpath}/{feature_reduction_outfile}', sheetName='Drop Reason Summary')"
   ]
  },
  {
   "cell_type": "markdown",
   "id": "eeee6713-c241-4091-beba-c490323e0621",
   "metadata": {},
   "source": [
    "<h4> 2.5 Export Coarse Classing result"
   ]
  },
  {
   "cell_type": "code",
   "execution_count": 8,
   "id": "c1cb9b19-3b60-4c60-b4a5-29753c9d4f0d",
   "metadata": {},
   "outputs": [],
   "source": [
    "# Save Updated Development & Validation Data\n",
    "model_data_pckl_dict['dev_data_out2'] = dev_data\n",
    "model_data_pckl_dict['val_data_out2'] = val_data[dev_data.columns.tolist()]\n",
    "with open(f'{outpath}/model_data.pickle', 'wb') as f:\n",
    "    pickle.dump(model_data_pckl_dict, f)\n",
    "    \n",
    "# Coarse Classing Output\n",
    "coarse_classing_df = coarse_classing_df[coarse_classing_df['VAR_NAME'].isin(dev_data.columns.tolist())]\n",
    "export_coarse_classing_data(coarse_classing_df, f\"{outpath}/{dev_fname.split('.')[0]}_coarse_classing.xlsx\", 'coarse_classing_result')"
   ]
  }
 ],
 "metadata": {
  "kernelspec": {
   "display_name": "Python 3",
   "language": "python",
   "name": "python3"
  },
  "language_info": {
   "codemirror_mode": {
    "name": "ipython",
    "version": 3
   },
   "file_extension": ".py",
   "mimetype": "text/x-python",
   "name": "python",
   "nbconvert_exporter": "python",
   "pygments_lexer": "ipython3",
   "version": "3.8.8"
  }
 },
 "nbformat": 4,
 "nbformat_minor": 5
}
